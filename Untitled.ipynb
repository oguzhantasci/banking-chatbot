{
 "cells": [
  {
   "cell_type": "code",
   "execution_count": 1,
   "id": "895cea17-ab75-4632-b4f0-2960116e747b",
   "metadata": {},
   "outputs": [],
   "source": [
    "import pandas as pd\n",
    "import json"
   ]
  },
  {
   "cell_type": "code",
   "execution_count": 2,
   "id": "45dba589-c77e-4ff6-bf4c-bb57e955c991",
   "metadata": {},
   "outputs": [],
   "source": [
    "# Load dataset\n",
    "df = pd.read_csv(\"Bank_Transaction.csv\", dtype=str)"
   ]
  },
  {
   "cell_type": "code",
   "execution_count": 3,
   "id": "86a7ab56-44b7-41da-8a70-b7e8ac51ac28",
   "metadata": {},
   "outputs": [
    {
     "name": "stdout",
     "output_type": "stream",
     "text": [
      "✅ Data converted to JSON successfully!\n"
     ]
    }
   ],
   "source": [
    "# Convert to dictionary\n",
    "customer_data = {}\n",
    "for _, row in df.iterrows():\n",
    "    customer_id = row[\"Customer_ID\"]\n",
    "    if customer_id not in customer_data:\n",
    "        customer_data[customer_id] = {\n",
    "            \"Account_Balance\": row[\"Account_Balance\"],\n",
    "            \"Transactions\": []\n",
    "        }\n",
    "    customer_data[customer_id][\"Transactions\"].append({\n",
    "        \"Transaction_Date\": row[\"Transaction_Date\"],\n",
    "        \"Transaction_Amount\": row[\"Transaction_Amount\"],\n",
    "        \"Transaction_Description\": row[\"Transaction_Description\"]\n",
    "    })\n",
    "\n",
    "# Save JSON\n",
    "with open(\"customer_data.json\", \"w\") as f:\n",
    "    json.dump(customer_data, f, indent=4)\n",
    "\n",
    "print(\"✅ Data converted to JSON successfully!\")"
   ]
  },
  {
   "cell_type": "code",
   "execution_count": null,
   "id": "e502cc90-6afb-400d-9e2c-c2667c0fecc2",
   "metadata": {},
   "outputs": [],
   "source": []
  }
 ],
 "metadata": {
  "kernelspec": {
   "display_name": "Python 3 (ipykernel)",
   "language": "python",
   "name": "python3"
  },
  "language_info": {
   "codemirror_mode": {
    "name": "ipython",
    "version": 3
   },
   "file_extension": ".py",
   "mimetype": "text/x-python",
   "name": "python",
   "nbconvert_exporter": "python",
   "pygments_lexer": "ipython3",
   "version": "3.12.3"
  }
 },
 "nbformat": 4,
 "nbformat_minor": 5
}
